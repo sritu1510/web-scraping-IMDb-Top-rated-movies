{
 "cells": [
  {
   "cell_type": "markdown",
   "metadata": {},
   "source": [
    "# Scraping IMDb Top 250 Movies\n",
    "\n",
    "\n"
   ]
  },
  {
   "cell_type": "markdown",
   "metadata": {},
   "source": [
    "## What is web scraping?\n",
    "![](https://www.edureka.co/blog/wp-content/uploads/2018/11/Untitled-1.jpg)\n",
    "Web scraping is an automated method used to extract large amounts of data from websites. The data on  the websites are unstructured. Web scraping helps collect these unstructured data and store it in a   structured form."
   ]
  },
  {
   "cell_type": "markdown",
   "metadata": {},
   "source": [
    "## What is IMDb?\n",
    "\n",
    "![](https://upload.wikimedia.org/wikipedia/commons/6/69/IMDB_Logo_2016.svg)\n",
    "\n",
    "**The Internet Movie Database (IMDb) is an online database containing information and statistics about movies, TV shows and video games as well as actors, directors and other film industry professionals. This information can include lists of cast and crew members, movie release dates and box office information, plot summaries, trailers, actor and director biographies and other trivia.**\n",
    "\n",
    "**Information on IMDb comes from a variety of sources, such as filmmakers, film studios, on-screen credits and other official sources. However, much of the information comes from IMDb users themselves, who can submit facts in a wiki-style format. Unlike traditional wiki sites, IMDb always authenticates information before it appears online -- although errors do show up, and the website allows users to report possible mistakes so they can be fixed.**\n",
    "\n",
    "![](https://i.imgur.com/8Ks5sn8.png)\n",
    "\n",
    "\n"
   ]
  },
  {
   "cell_type": "markdown",
   "metadata": {},
   "source": [
    "### **Libraries Used**\n",
    "Here, we will use Python libraries:-\n",
    "- **requests** To download a web page, \n",
    "- **beasutifulSoup4** in order to extract data from the webpage and\n",
    "- **pandas**, It provides various data structures and operations for manipulating numerical data and time series.\n",
    "\n"
   ]
  },
  {
   "cell_type": "markdown",
   "metadata": {},
   "source": [
    " ## **Project Outline**:\n",
    "\n",
    "1. We are going to scrape https://www.imdb.com/chart/top/ and Download the webpage using 'requests'.\n",
    "2. Parse the HTML source code using 'beautifulSoup4'.\n",
    "3. We will get movie name and URL \n",
    "4. Compile the extracted information into Python list and dictionaries.\n",
    "5. Convert the Python dictionaries into Pandas DataFrames.\n",
    "6. Finally we'll create a CSV file in the following format:\n",
    "\n",
    "```\n",
    "Movie Name, Url, Released On, Rating\n",
    "The Shawshank Redemption, https://www.imdb.com/title/tt0111161/, 1994 , 9.2\n",
    "\n",
    "```"
   ]
  },
  {
   "cell_type": "markdown",
   "metadata": {},
   "source": [
    "\n",
    "**_We can execute this code using the \"Run\" button at the top of the page_**"
   ]
  },
  {
   "cell_type": "markdown",
   "metadata": {},
   "source": [
    "## 1. Use the requests library to download web pages\n",
    "- Use requests to download the page\n",
    "- Use bs4 to parse and extract information\n",
    "- Convert to a pandas dataframe"
   ]
  },
  {
   "cell_type": "code",
   "execution_count": 1,
   "metadata": {},
   "outputs": [],
   "source": [
    "# Install the library using !pip\n",
    "!pip install requests --upgrade --quiet"
   ]
  },
  {
   "cell_type": "code",
   "execution_count": 2,
   "metadata": {
    "code_folding": []
   },
   "outputs": [],
   "source": [
    "# Import library\n",
    "import requests"
   ]
  },
  {
   "cell_type": "code",
   "execution_count": 3,
   "metadata": {
    "code_folding": []
   },
   "outputs": [],
   "source": [
    "# Copy the link and give it a variable name\n",
    "topics_url='https://www.imdb.com/chart/top/'"
   ]
  },
  {
   "cell_type": "code",
   "execution_count": 5,
   "metadata": {},
   "outputs": [],
   "source": [
    "response=requests.get(topics_url)"
   ]
  },
  {
   "cell_type": "markdown",
   "metadata": {},
   "source": [
    "**requests.get**: In order to download a web page, we use requests.get()"
   ]
  },
  {
   "cell_type": "code",
   "execution_count": 6,
   "metadata": {},
   "outputs": [
    {
     "data": {
      "text/plain": [
       "200"
      ]
     },
     "execution_count": 6,
     "metadata": {},
     "output_type": "execute_result"
    }
   ],
   "source": [
    "response.status_code"
   ]
  },
  {
   "cell_type": "markdown",
   "metadata": {},
   "source": [
    "**status_code**: It is used to check if the process of sending the HTTP request and getting a HTTP response back is successful or not. If the request was successful, response.status_code is set to a value between 200 and 299."
   ]
  },
  {
   "cell_type": "code",
   "execution_count": 7,
   "metadata": {},
   "outputs": [
    {
     "data": {
      "text/plain": [
       "588376"
      ]
     },
     "execution_count": 7,
     "metadata": {},
     "output_type": "execute_result"
    }
   ],
   "source": [
    "# len tells about the lenth of a response object\n",
    "len(response.text)"
   ]
  },
  {
   "cell_type": "markdown",
   "metadata": {},
   "source": [
    "**len functin** will show how many characters are in response"
   ]
  },
  {
   "cell_type": "markdown",
   "metadata": {},
   "source": [
    "**_We have total 142826 characters in HTML which we have just downloaded._**"
   ]
  },
  {
   "cell_type": "code",
   "execution_count": 8,
   "metadata": {},
   "outputs": [],
   "source": [
    "page_contents =response.text"
   ]
  },
  {
   "cell_type": "markdown",
   "metadata": {},
   "source": [
    "**.text**: is used to retrieve the HTML document."
   ]
  },
  {
   "cell_type": "code",
   "execution_count": 9,
   "metadata": {},
   "outputs": [
    {
     "data": {
      "text/plain": [
       "'\\n\\n\\n<!DOCTYPE html>\\n<html\\n    xmlns:og=\"http://ogp.me/ns#\"\\n    xmlns:fb=\"http://www.facebook.com/2008/fbml\">\\n    <head>\\n         \\n\\n        <meta charset=\"utf-8\">\\n\\n    \\n    \\n    \\n\\n    \\n    \\n    \\n\\n\\n\\n\\n        <script type=\"text/javascript\">var IMDbTimer={starttime: new Date().getTime(),pt:\\'java\\'};</script>\\n\\n<script>\\n    if (typeof uet == \\'function\\') {\\n      uet(\"bb\", \"LoadTitle\", {wb: 1});\\n    }\\n</script>\\n  <script>(function(t){ (t.events = t.events || {})[\"csm_head_pre_title\"] = new Date().getTime(); })(IMDbTimer);</script>\\n        <title>Top 250 Movies - IMDb</title>\\n  <script>(function(t){ (t.events = t.events || {})[\"csm_head_post_title\"] = new Date().getTime(); })(IMDbTimer);</script>\\n<script>\\n    if (typeof uet == \\'function\\') {\\n      uet(\"be\", \"LoadTitle\", {wb: 1});\\n    }\\n</script>\\n<script>\\n    if (typeof uex == \\'function\\') {\\n      uex(\"ld\", \"LoadTitle\", {wb: 1});\\n    }\\n</script>\\n\\n        <link rel=\"canonical\" href=\"https://www.imdb.com/chart/top/\" />\\n        <meta property=\"og:url\" '"
      ]
     },
     "execution_count": 9,
     "metadata": {},
     "output_type": "execute_result"
    }
   ],
   "source": [
    "#This displays the first 1000 characters of `page_contents` which have written in a language called HTML\n",
    "page_contents[:1000] "
   ]
  },
  {
   "cell_type": "code",
   "execution_count": 10,
   "metadata": {},
   "outputs": [],
   "source": [
    "with open('movies.html', 'w') as f:\n",
    "    f.write(page_contents)"
   ]
  },
  {
   "cell_type": "markdown",
   "metadata": {},
   "source": [
    "**_Now, we have saved html file with open statement and we can see this page in file._**\n",
    "![](https://i.imgur.com/nn83zg7.png)"
   ]
  },
  {
   "cell_type": "markdown",
   "metadata": {},
   "source": [
    "## 2. Parse the HTML source code using 'beautifulSoup4'\n"
   ]
  },
  {
   "cell_type": "code",
   "execution_count": 11,
   "metadata": {},
   "outputs": [],
   "source": [
    "# Installed beautifulsoup\n",
    "!pip install beautifulsoup4 --upgrade --quiet"
   ]
  },
  {
   "cell_type": "code",
   "execution_count": 12,
   "metadata": {},
   "outputs": [],
   "source": [
    "# Import BeautifulSoup\n",
    "from bs4 import BeautifulSoup"
   ]
  },
  {
   "cell_type": "code",
   "execution_count": 13,
   "metadata": {},
   "outputs": [],
   "source": [
    "# Let's put it in a doc veriable with help of below function\n",
    "doc = BeautifulSoup(page_contents,'html.parser')"
   ]
  },
  {
   "cell_type": "code",
   "execution_count": 14,
   "metadata": {},
   "outputs": [
    {
     "data": {
      "text/plain": [
       "bs4.BeautifulSoup"
      ]
     },
     "execution_count": 14,
     "metadata": {},
     "output_type": "execute_result"
    }
   ],
   "source": [
    "type(doc)"
   ]
  },
  {
   "cell_type": "markdown",
   "metadata": {},
   "source": [
    "**type()**: Here we can check type of doc"
   ]
  },
  {
   "cell_type": "markdown",
   "metadata": {},
   "source": [
    "## 3. We will get movie name, urls, year, rating"
   ]
  },
  {
   "cell_type": "code",
   "execution_count": 15,
   "metadata": {},
   "outputs": [],
   "source": [
    "td_tags = doc.find_all('td')"
   ]
  },
  {
   "cell_type": "markdown",
   "metadata": {},
   "source": [
    "**_To get topic titles, we can pick all 'td' tags with the class..._**\n"
   ]
  },
  {
   "cell_type": "code",
   "execution_count": 16,
   "metadata": {},
   "outputs": [
    {
     "data": {
      "text/plain": [
       "1250"
      ]
     },
     "execution_count": 16,
     "metadata": {},
     "output_type": "execute_result"
    }
   ],
   "source": [
    "len(td_tags)"
   ]
  },
  {
   "cell_type": "code",
   "execution_count": 17,
   "metadata": {},
   "outputs": [
    {
     "data": {
      "text/plain": [
       "[<td class=\"posterColumn\">\n",
       " <span data-value=\"1\" name=\"rk\"></span>\n",
       " <span data-value=\"9.234585334105239\" name=\"ir\"></span>\n",
       " <span data-value=\"7.791552E11\" name=\"us\"></span>\n",
       " <span data-value=\"2627252\" name=\"nv\"></span>\n",
       " <span data-value=\"-1.7654146658947614\" name=\"ur\"></span>\n",
       " <a href=\"/title/tt0111161/\"> <img alt=\"The Shawshank Redemption\" height=\"67\" src=\"https://m.media-amazon.com/images/M/MV5BMDFkYTc0MGEtZmNhMC00ZDIzLWFmNTEtODM1ZmRlYWMwMWFmXkEyXkFqcGdeQXVyMTMxODk2OTU@._V1_UY67_CR0,0,45,67_AL_.jpg\" width=\"45\"/>\n",
       " </a> </td>,\n",
       " <td class=\"titleColumn\">\n",
       "       1.\n",
       "       <a href=\"/title/tt0111161/\" title=\"Frank Darabont (dir.), Tim Robbins, Morgan Freeman\">The Shawshank Redemption</a>\n",
       " <span class=\"secondaryInfo\">(1994)</span>\n",
       " </td>,\n",
       " <td class=\"ratingColumn imdbRating\">\n",
       " <strong title=\"9.2 based on 2,627,252 user ratings\">9.2</strong>\n",
       " </td>,\n",
       " <td class=\"ratingColumn\">\n",
       " <div class=\"seen-widget seen-widget-tt0111161 pending\" data-titleid=\"tt0111161\">\n",
       " <div class=\"boundary\">\n",
       " <div class=\"popover\">\n",
       " <span class=\"delete\"> </span><ol><li>1<li>2<li>3<li>4<li>5<li>6<li>7<li>8<li>9<li>10</li></li></li></li></li></li></li></li></li></li></ol> </div>\n",
       " </div>\n",
       " <div class=\"inline\">\n",
       " <div class=\"pending\"></div>\n",
       " <div class=\"unseeable\">NOT YET RELEASED</div>\n",
       " <div class=\"unseen\"> </div>\n",
       " <div class=\"rating\"></div>\n",
       " <div class=\"seen\">Seen</div>\n",
       " </div>\n",
       " </div>\n",
       " </td>,\n",
       " <td class=\"watchlistColumn\">\n",
       " <div class=\"wlb_ribbon\" data-recordmetrics=\"true\" data-tconst=\"tt0111161\"></div>\n",
       " </td>]"
      ]
     },
     "execution_count": 17,
     "metadata": {},
     "output_type": "execute_result"
    }
   ],
   "source": [
    "td_tags[:5]"
   ]
  },
  {
   "cell_type": "code",
   "execution_count": 18,
   "metadata": {},
   "outputs": [],
   "source": [
    "# doc.find_all with this fuction we can get the page titles with class \n",
    "movies_name= doc.find_all('td',{'class':'titleColumn'})"
   ]
  },
  {
   "cell_type": "code",
   "execution_count": 19,
   "metadata": {},
   "outputs": [
    {
     "data": {
      "text/plain": [
       "250"
      ]
     },
     "execution_count": 19,
     "metadata": {},
     "output_type": "execute_result"
    }
   ],
   "source": [
    "len(movies_name)"
   ]
  },
  {
   "cell_type": "markdown",
   "metadata": {},
   "source": [
    "Here we got movies names let's print any five movies name"
   ]
  },
  {
   "cell_type": "code",
   "execution_count": 20,
   "metadata": {},
   "outputs": [
    {
     "data": {
      "text/plain": [
       "[<td class=\"titleColumn\">\n",
       "       1.\n",
       "       <a href=\"/title/tt0111161/\" title=\"Frank Darabont (dir.), Tim Robbins, Morgan Freeman\">The Shawshank Redemption</a>\n",
       " <span class=\"secondaryInfo\">(1994)</span>\n",
       " </td>,\n",
       " <td class=\"titleColumn\">\n",
       "       2.\n",
       "       <a href=\"/title/tt0068646/\" title=\"Francis Ford Coppola (dir.), Marlon Brando, Al Pacino\">The Godfather</a>\n",
       " <span class=\"secondaryInfo\">(1972)</span>\n",
       " </td>,\n",
       " <td class=\"titleColumn\">\n",
       "       3.\n",
       "       <a href=\"/title/tt0468569/\" title=\"Christopher Nolan (dir.), Christian Bale, Heath Ledger\">The Dark Knight</a>\n",
       " <span class=\"secondaryInfo\">(2008)</span>\n",
       " </td>,\n",
       " <td class=\"titleColumn\">\n",
       "       4.\n",
       "       <a href=\"/title/tt0071562/\" title=\"Francis Ford Coppola (dir.), Al Pacino, Robert De Niro\">The Godfather Part II</a>\n",
       " <span class=\"secondaryInfo\">(1974)</span>\n",
       " </td>,\n",
       " <td class=\"titleColumn\">\n",
       "       5.\n",
       "       <a href=\"/title/tt0050083/\" title=\"Sidney Lumet (dir.), Henry Fonda, Lee J. Cobb\">12 Angry Men</a>\n",
       " <span class=\"secondaryInfo\">(1957)</span>\n",
       " </td>]"
      ]
     },
     "execution_count": 20,
     "metadata": {},
     "output_type": "execute_result"
    }
   ],
   "source": [
    "# we can print some results \n",
    "movies_name[:5]"
   ]
  },
  {
   "cell_type": "markdown",
   "metadata": {},
   "source": [
    "What? not able to understand... \n",
    "movie names are written in a language is HTML. Now we'll get them in text format with help of some other function."
   ]
  },
  {
   "cell_type": "markdown",
   "metadata": {},
   "source": [
    "### Let's find list of MOVIE NAMES from MOST POPULAR MOVIES\n",
    "\n",
    "![](https://i.imgur.com/iLIhJh1.png)"
   ]
  },
  {
   "cell_type": "code",
   "execution_count": 21,
   "metadata": {},
   "outputs": [
    {
     "data": {
      "text/plain": [
       "['The Shawshank Redemption',\n",
       " 'The Godfather',\n",
       " 'The Dark Knight',\n",
       " 'The Godfather Part II',\n",
       " '12 Angry Men']"
      ]
     },
     "execution_count": 21,
     "metadata": {},
     "output_type": "execute_result"
    }
   ],
   "source": [
    "# First of all we have to get a tag which will get movie name \n",
    "tag = doc.find_all('td', {'class' : 'titleColumn'}) \n",
    "movie_names = []\n",
    "for item in tag:\n",
    "    movie_names.append(item.find('a').text)\n",
    "movie_names[:5]"
   ]
  },
  {
   "cell_type": "markdown",
   "metadata": {},
   "source": [
    "After getting movie name tag with a particular class we can use **for** function which will show us all possible values available in movie tag with the particular class it will **append** them in **movie names** in a text format."
   ]
  },
  {
   "cell_type": "markdown",
   "metadata": {},
   "source": [
    " ### Now We'll get all url"
   ]
  },
  {
   "cell_type": "code",
   "execution_count": 22,
   "metadata": {},
   "outputs": [
    {
     "data": {
      "text/plain": [
       "['https://www.imdb.com//title/tt0111161/',\n",
       " 'https://www.imdb.com//title/tt0068646/',\n",
       " 'https://www.imdb.com//title/tt0468569/',\n",
       " 'https://www.imdb.com//title/tt0071562/',\n",
       " 'https://www.imdb.com//title/tt0050083/']"
      ]
     },
     "execution_count": 22,
     "metadata": {},
     "output_type": "execute_result"
    }
   ],
   "source": [
    "#Similarlity we'll get movie urls with the help of base url after getting information we'll print 1st five urls\n",
    "urls = []\n",
    "base_url = 'https://www.imdb.com/'\n",
    "for item in tag:\n",
    "    a = item.find('a')\n",
    "    urls.append(base_url + item.find('a')['href'])\n",
    "urls[:5]"
   ]
  },
  {
   "cell_type": "markdown",
   "metadata": {},
   "source": [
    "**Here we can find all urls with `a` tag and href**\n",
    "![](https://i.imgur.com/DkrEllb.png)"
   ]
  },
  {
   "cell_type": "markdown",
   "metadata": {},
   "source": [
    "## Ratings"
   ]
  },
  {
   "cell_type": "code",
   "execution_count": 23,
   "metadata": {},
   "outputs": [
    {
     "data": {
      "text/plain": [
       "['9.2', '9.2', '9.0', '9.0', '8.9']"
      ]
     },
     "execution_count": 23,
     "metadata": {},
     "output_type": "execute_result"
    }
   ],
   "source": [
    "# ratings will get how popular is this movie\n",
    "rate = doc.find_all('td', class_= 'ratingColumn imdbRating')\n",
    "ratings=[]\n",
    "for item in rate: \n",
    "    ratings.append(item.text.strip())\n",
    "ratings[:5]\n",
    "    "
   ]
  },
  {
   "cell_type": "markdown",
   "metadata": {},
   "source": [
    "## Year"
   ]
  },
  {
   "cell_type": "code",
   "execution_count": 24,
   "metadata": {},
   "outputs": [
    {
     "data": {
      "text/plain": [
       "['1994', '1972', '2008', '1974', '1957', '1993']"
      ]
     },
     "execution_count": 24,
     "metadata": {},
     "output_type": "execute_result"
    }
   ],
   "source": [
    "# Year is when the movie was released\n",
    "year_tag = doc.find_all('span',class_= 'secondaryInfo')\n",
    "years=[]\n",
    "for item in year_tag:\n",
    "    years.append(item.text.strip(\"()\"))\n",
    "years[:6]"
   ]
  },
  {
   "cell_type": "markdown",
   "metadata": {},
   "source": [
    "## 4.Compile the extracted information into Python list and dictionary"
   ]
  },
  {
   "cell_type": "markdown",
   "metadata": {},
   "source": [
    "Now we got some necessary details Let's put them in pandas Dataframe"
   ]
  },
  {
   "cell_type": "code",
   "execution_count": 25,
   "metadata": {},
   "outputs": [],
   "source": [
    "# Install and Import pandas \n",
    "!pip install pandas --upgrade --quiet"
   ]
  },
  {
   "cell_type": "code",
   "execution_count": 26,
   "metadata": {},
   "outputs": [],
   "source": [
    "import pandas as pd"
   ]
  },
  {
   "cell_type": "markdown",
   "metadata": {},
   "source": [
    "We can put these information in pandas Dataframe using dictionary so first we have to create a dictionary."
   ]
  },
  {
   "cell_type": "code",
   "execution_count": 27,
   "metadata": {},
   "outputs": [],
   "source": [
    "movies_dict= {\n",
    "    'Movie Name':movie_names,\n",
    "    'Url': urls,\n",
    "    'Released On': years,\n",
    "    'Rating': ratings\n",
    "}"
   ]
  },
  {
   "cell_type": "markdown",
   "metadata": {},
   "source": [
    "Dictionary is ready put them in pandas Dataframe"
   ]
  },
  {
   "cell_type": "markdown",
   "metadata": {},
   "source": [
    "## 5. Convert the Python dictionary into Pandas DataFrame"
   ]
  },
  {
   "cell_type": "code",
   "execution_count": 28,
   "metadata": {},
   "outputs": [],
   "source": [
    "# We\"ll put Dataframe in movies_df variable\n",
    "movies_df = pd.DataFrame(movies_dict)"
   ]
  },
  {
   "cell_type": "markdown",
   "metadata": {},
   "source": [
    "**_Let's check how does it looks..._**"
   ]
  },
  {
   "cell_type": "code",
   "execution_count": 29,
   "metadata": {},
   "outputs": [
    {
     "data": {
      "text/html": [
       "<div>\n",
       "<style scoped>\n",
       "    .dataframe tbody tr th:only-of-type {\n",
       "        vertical-align: middle;\n",
       "    }\n",
       "\n",
       "    .dataframe tbody tr th {\n",
       "        vertical-align: top;\n",
       "    }\n",
       "\n",
       "    .dataframe thead th {\n",
       "        text-align: right;\n",
       "    }\n",
       "</style>\n",
       "<table border=\"1\" class=\"dataframe\">\n",
       "  <thead>\n",
       "    <tr style=\"text-align: right;\">\n",
       "      <th></th>\n",
       "      <th>Movie Name</th>\n",
       "      <th>Url</th>\n",
       "      <th>Released On</th>\n",
       "      <th>Rating</th>\n",
       "    </tr>\n",
       "  </thead>\n",
       "  <tbody>\n",
       "    <tr>\n",
       "      <th>0</th>\n",
       "      <td>The Shawshank Redemption</td>\n",
       "      <td>https://www.imdb.com//title/tt0111161/</td>\n",
       "      <td>1994</td>\n",
       "      <td>9.2</td>\n",
       "    </tr>\n",
       "    <tr>\n",
       "      <th>1</th>\n",
       "      <td>The Godfather</td>\n",
       "      <td>https://www.imdb.com//title/tt0068646/</td>\n",
       "      <td>1972</td>\n",
       "      <td>9.2</td>\n",
       "    </tr>\n",
       "    <tr>\n",
       "      <th>2</th>\n",
       "      <td>The Dark Knight</td>\n",
       "      <td>https://www.imdb.com//title/tt0468569/</td>\n",
       "      <td>2008</td>\n",
       "      <td>9.0</td>\n",
       "    </tr>\n",
       "    <tr>\n",
       "      <th>3</th>\n",
       "      <td>The Godfather Part II</td>\n",
       "      <td>https://www.imdb.com//title/tt0071562/</td>\n",
       "      <td>1974</td>\n",
       "      <td>9.0</td>\n",
       "    </tr>\n",
       "    <tr>\n",
       "      <th>4</th>\n",
       "      <td>12 Angry Men</td>\n",
       "      <td>https://www.imdb.com//title/tt0050083/</td>\n",
       "      <td>1957</td>\n",
       "      <td>8.9</td>\n",
       "    </tr>\n",
       "    <tr>\n",
       "      <th>...</th>\n",
       "      <td>...</td>\n",
       "      <td>...</td>\n",
       "      <td>...</td>\n",
       "      <td>...</td>\n",
       "    </tr>\n",
       "    <tr>\n",
       "      <th>245</th>\n",
       "      <td>Jai Bhim</td>\n",
       "      <td>https://www.imdb.com//title/tt15097216/</td>\n",
       "      <td>2021</td>\n",
       "      <td>8.0</td>\n",
       "    </tr>\n",
       "    <tr>\n",
       "      <th>246</th>\n",
       "      <td>Aladdin</td>\n",
       "      <td>https://www.imdb.com//title/tt0103639/</td>\n",
       "      <td>1992</td>\n",
       "      <td>8.0</td>\n",
       "    </tr>\n",
       "    <tr>\n",
       "      <th>247</th>\n",
       "      <td>Gandhi</td>\n",
       "      <td>https://www.imdb.com//title/tt0083987/</td>\n",
       "      <td>1982</td>\n",
       "      <td>8.0</td>\n",
       "    </tr>\n",
       "    <tr>\n",
       "      <th>248</th>\n",
       "      <td>The Help</td>\n",
       "      <td>https://www.imdb.com//title/tt1454029/</td>\n",
       "      <td>2011</td>\n",
       "      <td>8.0</td>\n",
       "    </tr>\n",
       "    <tr>\n",
       "      <th>249</th>\n",
       "      <td>The Iron Giant</td>\n",
       "      <td>https://www.imdb.com//title/tt0129167/</td>\n",
       "      <td>1999</td>\n",
       "      <td>8.0</td>\n",
       "    </tr>\n",
       "  </tbody>\n",
       "</table>\n",
       "<p>250 rows × 4 columns</p>\n",
       "</div>"
      ],
      "text/plain": [
       "                   Movie Name                                      Url  \\\n",
       "0    The Shawshank Redemption   https://www.imdb.com//title/tt0111161/   \n",
       "1               The Godfather   https://www.imdb.com//title/tt0068646/   \n",
       "2             The Dark Knight   https://www.imdb.com//title/tt0468569/   \n",
       "3       The Godfather Part II   https://www.imdb.com//title/tt0071562/   \n",
       "4                12 Angry Men   https://www.imdb.com//title/tt0050083/   \n",
       "..                        ...                                      ...   \n",
       "245                  Jai Bhim  https://www.imdb.com//title/tt15097216/   \n",
       "246                   Aladdin   https://www.imdb.com//title/tt0103639/   \n",
       "247                    Gandhi   https://www.imdb.com//title/tt0083987/   \n",
       "248                  The Help   https://www.imdb.com//title/tt1454029/   \n",
       "249            The Iron Giant   https://www.imdb.com//title/tt0129167/   \n",
       "\n",
       "    Released On Rating  \n",
       "0          1994    9.2  \n",
       "1          1972    9.2  \n",
       "2          2008    9.0  \n",
       "3          1974    9.0  \n",
       "4          1957    8.9  \n",
       "..          ...    ...  \n",
       "245        2021    8.0  \n",
       "246        1992    8.0  \n",
       "247        1982    8.0  \n",
       "248        2011    8.0  \n",
       "249        1999    8.0  \n",
       "\n",
       "[250 rows x 4 columns]"
      ]
     },
     "execution_count": 29,
     "metadata": {},
     "output_type": "execute_result"
    }
   ],
   "source": [
    "movies_df"
   ]
  },
  {
   "cell_type": "code",
   "execution_count": 30,
   "metadata": {},
   "outputs": [],
   "source": [
    "# Import jovian to save our work\n",
    "import jovian"
   ]
  },
  {
   "cell_type": "code",
   "execution_count": 31,
   "metadata": {},
   "outputs": [
    {
     "data": {
      "application/javascript": [
       "window.require && require([\"base/js/namespace\"],function(Jupyter){Jupyter.notebook.save_checkpoint()})"
      ],
      "text/plain": [
       "<IPython.core.display.Javascript object>"
      ]
     },
     "metadata": {},
     "output_type": "display_data"
    },
    {
     "name": "stdout",
     "output_type": "stream",
     "text": [
      "[jovian] Updating notebook \"sritu1510/scraping-imdb-top-250-movies\" on https://jovian.ai\u001b[0m\n",
      "[jovian] Committed successfully! https://jovian.ai/sritu1510/scraping-imdb-top-250-movies\u001b[0m\n"
     ]
    },
    {
     "data": {
      "text/plain": [
       "'https://jovian.ai/sritu1510/scraping-imdb-top-250-movies'"
      ]
     },
     "execution_count": 31,
     "metadata": {},
     "output_type": "execute_result"
    }
   ],
   "source": [
    "jovian.commit()"
   ]
  },
  {
   "cell_type": "markdown",
   "metadata": {},
   "source": [
    "## 6. Finally we'll create a CSV file"
   ]
  },
  {
   "cell_type": "markdown",
   "metadata": {},
   "source": [
    "All information is parsed from the main page let's save them in comma-separated values(CSV)"
   ]
  },
  {
   "cell_type": "code",
   "execution_count": 32,
   "metadata": {},
   "outputs": [],
   "source": [
    "movies_df.to_csv('movies.csv', index= None)"
   ]
  },
  {
   "cell_type": "markdown",
   "metadata": {},
   "source": [
    "**Now our work is successfully saved and we can check it in file**"
   ]
  },
  {
   "cell_type": "markdown",
   "metadata": {},
   "source": [
    "###          Getting information out of each movie name\n",
    "\n",
    "Now we'll get information about all topics with similarly we have done before..."
   ]
  },
  {
   "cell_type": "code",
   "execution_count": 33,
   "metadata": {},
   "outputs": [],
   "source": [
    "#To get information from the 1st movie among Most Popular Movies\n",
    "movie_page = urls[0] "
   ]
  },
  {
   "cell_type": "code",
   "execution_count": 34,
   "metadata": {},
   "outputs": [
    {
     "data": {
      "text/plain": [
       "200"
      ]
     },
     "execution_count": 34,
     "metadata": {},
     "output_type": "execute_result"
    }
   ],
   "source": [
    "# Lets put it in response and check status code to check is page downloded successfully \n",
    "response = requests.get(movie_page)\n",
    "response.status_code"
   ]
  },
  {
   "cell_type": "code",
   "execution_count": 35,
   "metadata": {},
   "outputs": [
    {
     "data": {
      "text/plain": [
       "895878"
      ]
     },
     "execution_count": 35,
     "metadata": {},
     "output_type": "execute_result"
    }
   ],
   "source": [
    "# Check lenth\n",
    "len(response.text)"
   ]
  },
  {
   "cell_type": "code",
   "execution_count": 36,
   "metadata": {},
   "outputs": [],
   "source": [
    "# Put it in 2nd doc means doc2\n",
    "doc2 = BeautifulSoup(response.text, 'html.parser')\n"
   ]
  },
  {
   "cell_type": "markdown",
   "metadata": {},
   "source": [
    "**Genre**"
   ]
  },
  {
   "cell_type": "code",
   "execution_count": 37,
   "metadata": {},
   "outputs": [],
   "source": [
    "# With the help of genre finder can found movie by his interest\n",
    "gen = doc2.find('a', {'class' : 'sc-16ede01-3 bYNgQ ipc-chip ipc-chip--on-baseAlt'})  #This is to fetch the Genre of the movie\n",
    "genre = gen.text"
   ]
  },
  {
   "cell_type": "markdown",
   "metadata": {},
   "source": [
    "**About**"
   ]
  },
  {
   "cell_type": "code",
   "execution_count": 38,
   "metadata": {},
   "outputs": [
    {
     "data": {
      "text/plain": [
       "'Two imprisoned men bond over a number of years, finding solace and eventual redemption through acts of common decency.'"
      ]
     },
     "execution_count": 38,
     "metadata": {},
     "output_type": "execute_result"
    }
   ],
   "source": [
    "# About is small summary of the movie\n",
    "about = doc2.find('span', class_= \"sc-16ede01-0 fMPjMP\").text\n",
    "about"
   ]
  },
  {
   "cell_type": "markdown",
   "metadata": {},
   "source": [
    "**Rating**"
   ]
  },
  {
   "cell_type": "code",
   "execution_count": 39,
   "metadata": {},
   "outputs": [
    {
     "data": {
      "text/plain": [
       "'9.3'"
      ]
     },
     "execution_count": 39,
     "metadata": {},
     "output_type": "execute_result"
    }
   ],
   "source": [
    "#This is to fetch the rating of the movie\n",
    "rating1 = doc2.find('span', {'class':'sc-7ab21ed2-1 jGRxWM'})  \n",
    "if rating1 == None:\n",
    "    rating = 'NA'\n",
    "else: \n",
    "    rating = rating1.text\n",
    "rating"
   ]
  },
  {
   "cell_type": "markdown",
   "metadata": {},
   "source": [
    "Similarly we'll get **viewers** for each movie"
   ]
  },
  {
   "cell_type": "code",
   "execution_count": 40,
   "metadata": {},
   "outputs": [
    {
     "data": {
      "text/plain": [
       "'10.3K'"
      ]
     },
     "execution_count": 40,
     "metadata": {},
     "output_type": "execute_result"
    }
   ],
   "source": [
    "viewers = doc2.find('span', {'class' : \"score\"})   #This is to get the number of people who reviewed the movie\n",
    "if viewers == None:\n",
    "    viewers = 'NA'\n",
    "else :\n",
    "    viewers = viewers.text.strip()\n",
    "viewers"
   ]
  },
  {
   "cell_type": "code",
   "execution_count": 54,
   "metadata": {},
   "outputs": [],
   "source": [
    "import os\n",
    "\n",
    "# Now we\"ll define some fuctions so that we can get all the information with help of a single fuction\n",
    "\n",
    "def get_movie_page(url):\n",
    "    topic_url =url\n",
    "    # Download the page\n",
    "    response= requests.get(topic_url)\n",
    "    \n",
    "    # Let's check successful response\n",
    "    if response.status_code !=200:\n",
    "        raise Exception('Failed to load page {}'.format(topic_url))\n",
    "    \n",
    "    # Parse info using BeautifulSoup\n",
    "    topic_doc = BeautifulSoup(response.text,'html.parser')\n",
    "    return topic_doc\n",
    "\n",
    "\n",
    "def get_movie_details(topic_doc):\n",
    "    # Get url details in doc2\n",
    "    doc2 = get_movie_page(topic_doc)\n",
    "    \n",
    "    # find genre\n",
    "    gen = doc2.find('a', {'class' : 'sc-16ede01-3 bYNgQ ipc-chip ipc-chip--on-baseAlt'})  #This is to fetch the Genre of the movie\n",
    "    genre = gen.text\n",
    "    \n",
    "    # find summary\n",
    "    about = doc2.find('span', class_= \"sc-16ede01-0 fMPjMP\").text\n",
    "    \n",
    "    # find Reviwes\n",
    "    viewers = doc2.find('span', {'class' : \"score\"})   #This is to get the number of people who reviewed the movie\n",
    "    if viewers == None:\n",
    "        viewers = 'NA'\n",
    "    else :\n",
    "        viewers = viewers.text.strip()\n",
    "    \n",
    "    # Return all values in...\n",
    "    return  genre , about ,  viewers\n"
   ]
  },
  {
   "cell_type": "code",
   "execution_count": 43,
   "metadata": {},
   "outputs": [
    {
     "data": {
      "text/plain": [
       "('Drama',\n",
       " 'Two imprisoned men bond over a number of years, finding solace and eventual redemption through acts of common decency.',\n",
       " '10.3K')"
      ]
     },
     "execution_count": 43,
     "metadata": {},
     "output_type": "execute_result"
    }
   ],
   "source": [
    "# Try to get all details by a single function\n",
    "get_movie_details(urls[0])"
   ]
  },
  {
   "cell_type": "markdown",
   "metadata": {},
   "source": [
    "**In this function we have put all details together whichever we have found before separately**"
   ]
  },
  {
   "cell_type": "code",
   "execution_count": 44,
   "metadata": {},
   "outputs": [
    {
     "data": {
      "application/javascript": [
       "window.require && require([\"base/js/namespace\"],function(Jupyter){Jupyter.notebook.save_checkpoint()})"
      ],
      "text/plain": [
       "<IPython.core.display.Javascript object>"
      ]
     },
     "metadata": {},
     "output_type": "display_data"
    },
    {
     "name": "stdout",
     "output_type": "stream",
     "text": [
      "[jovian] Updating notebook \"sritu1510/scraping-imdb-top-250-movies\" on https://jovian.ai\u001b[0m\n",
      "[jovian] Committed successfully! https://jovian.ai/sritu1510/scraping-imdb-top-250-movies\u001b[0m\n"
     ]
    },
    {
     "data": {
      "text/plain": [
       "'https://jovian.ai/sritu1510/scraping-imdb-top-250-movies'"
      ]
     },
     "execution_count": 44,
     "metadata": {},
     "output_type": "execute_result"
    }
   ],
   "source": [
    "jovian.commit()"
   ]
  },
  {
   "cell_type": "code",
   "execution_count": 61,
   "metadata": {
    "scrolled": true
   },
   "outputs": [
    {
     "data": {
      "text/html": [
       "<div>\n",
       "<style scoped>\n",
       "    .dataframe tbody tr th:only-of-type {\n",
       "        vertical-align: middle;\n",
       "    }\n",
       "\n",
       "    .dataframe tbody tr th {\n",
       "        vertical-align: top;\n",
       "    }\n",
       "\n",
       "    .dataframe thead th {\n",
       "        text-align: right;\n",
       "    }\n",
       "</style>\n",
       "<table border=\"1\" class=\"dataframe\">\n",
       "  <thead>\n",
       "    <tr style=\"text-align: right;\">\n",
       "      <th></th>\n",
       "      <th>Viewers</th>\n",
       "      <th>genre</th>\n",
       "      <th>summary</th>\n",
       "    </tr>\n",
       "  </thead>\n",
       "  <tbody>\n",
       "    <tr>\n",
       "      <th>0</th>\n",
       "      <td>10.3K</td>\n",
       "      <td>Drama</td>\n",
       "      <td>Two imprisoned men bond over a number of years...</td>\n",
       "    </tr>\n",
       "    <tr>\n",
       "      <th>1</th>\n",
       "      <td>5.1K</td>\n",
       "      <td>Crime</td>\n",
       "      <td>The aging patriarch of an organized crime dyna...</td>\n",
       "    </tr>\n",
       "    <tr>\n",
       "      <th>2</th>\n",
       "      <td>8.2K</td>\n",
       "      <td>Action</td>\n",
       "      <td>When the menace known as the Joker wreaks havo...</td>\n",
       "    </tr>\n",
       "    <tr>\n",
       "      <th>3</th>\n",
       "      <td>1.3K</td>\n",
       "      <td>Crime</td>\n",
       "      <td>The early life and career of Vito Corleone in ...</td>\n",
       "    </tr>\n",
       "    <tr>\n",
       "      <th>4</th>\n",
       "      <td>1.9K</td>\n",
       "      <td>Crime</td>\n",
       "      <td>The jury in a New York City murder trial is fr...</td>\n",
       "    </tr>\n",
       "    <tr>\n",
       "      <th>...</th>\n",
       "      <td>...</td>\n",
       "      <td>...</td>\n",
       "      <td>...</td>\n",
       "    </tr>\n",
       "    <tr>\n",
       "      <th>245</th>\n",
       "      <td>3.3K</td>\n",
       "      <td>Crime</td>\n",
       "      <td>When a tribal man is arrested for a case of al...</td>\n",
       "    </tr>\n",
       "    <tr>\n",
       "      <th>246</th>\n",
       "      <td>381</td>\n",
       "      <td>Animation</td>\n",
       "      <td>A kindhearted street urchin and a power-hungry...</td>\n",
       "    </tr>\n",
       "    <tr>\n",
       "      <th>247</th>\n",
       "      <td>328</td>\n",
       "      <td>Biography</td>\n",
       "      <td>The life of the lawyer who became the famed le...</td>\n",
       "    </tr>\n",
       "    <tr>\n",
       "      <th>248</th>\n",
       "      <td>642</td>\n",
       "      <td>Drama</td>\n",
       "      <td>An aspiring author during the civil rights mov...</td>\n",
       "    </tr>\n",
       "    <tr>\n",
       "      <th>249</th>\n",
       "      <td>623</td>\n",
       "      <td>Animation</td>\n",
       "      <td>A young boy befriends a giant robot from outer...</td>\n",
       "    </tr>\n",
       "  </tbody>\n",
       "</table>\n",
       "<p>250 rows × 3 columns</p>\n",
       "</div>"
      ],
      "text/plain": [
       "    Viewers      genre                                            summary\n",
       "0     10.3K      Drama  Two imprisoned men bond over a number of years...\n",
       "1      5.1K      Crime  The aging patriarch of an organized crime dyna...\n",
       "2      8.2K     Action  When the menace known as the Joker wreaks havo...\n",
       "3      1.3K      Crime  The early life and career of Vito Corleone in ...\n",
       "4      1.9K      Crime  The jury in a New York City murder trial is fr...\n",
       "..      ...        ...                                                ...\n",
       "245    3.3K      Crime  When a tribal man is arrested for a case of al...\n",
       "246     381  Animation  A kindhearted street urchin and a power-hungry...\n",
       "247     328  Biography  The life of the lawyer who became the famed le...\n",
       "248     642      Drama  An aspiring author during the civil rights mov...\n",
       "249     623  Animation  A young boy befriends a giant robot from outer...\n",
       "\n",
       "[250 rows x 3 columns]"
      ]
     },
     "execution_count": 61,
     "metadata": {},
     "output_type": "execute_result"
    }
   ],
   "source": [
    "# put them in dict and for function will append all posible values below\n",
    "final_dict = {\n",
    "    'Viewers':[],\n",
    "    'genre':[],\n",
    "    'summary':[]\n",
    "}\n",
    "\n",
    "for movie in range(len(urls)):           \n",
    "    details = get_movie_details(urls[movie])\n",
    "    \n",
    "    final_dict['genre'].append(details[0])\n",
    "    final_dict['summary'].append(details[1])\n",
    "    final_dict['Viewers'].append(details[2])\n",
    "df = pd.DataFrame(final_dict)\n",
    "df"
   ]
  },
  {
   "cell_type": "markdown",
   "metadata": {},
   "source": [
    "**Now we have two diffrent dataframes Let's combined them with the help of concat.**"
   ]
  },
  {
   "cell_type": "code",
   "execution_count": 62,
   "metadata": {},
   "outputs": [],
   "source": [
    "df1= movies_df\n",
    "df2 = df\n",
    "final_df = pd.concat([df1,df2], axis = 1)"
   ]
  },
  {
   "cell_type": "markdown",
   "metadata": {},
   "source": [
    "### Let's check how looks final_df"
   ]
  },
  {
   "cell_type": "code",
   "execution_count": 63,
   "metadata": {},
   "outputs": [
    {
     "data": {
      "text/html": [
       "<div>\n",
       "<style scoped>\n",
       "    .dataframe tbody tr th:only-of-type {\n",
       "        vertical-align: middle;\n",
       "    }\n",
       "\n",
       "    .dataframe tbody tr th {\n",
       "        vertical-align: top;\n",
       "    }\n",
       "\n",
       "    .dataframe thead th {\n",
       "        text-align: right;\n",
       "    }\n",
       "</style>\n",
       "<table border=\"1\" class=\"dataframe\">\n",
       "  <thead>\n",
       "    <tr style=\"text-align: right;\">\n",
       "      <th></th>\n",
       "      <th>Movie Name</th>\n",
       "      <th>Url</th>\n",
       "      <th>Released On</th>\n",
       "      <th>Rating</th>\n",
       "      <th>Viewers</th>\n",
       "      <th>genre</th>\n",
       "      <th>summary</th>\n",
       "    </tr>\n",
       "  </thead>\n",
       "  <tbody>\n",
       "    <tr>\n",
       "      <th>0</th>\n",
       "      <td>The Shawshank Redemption</td>\n",
       "      <td>https://www.imdb.com//title/tt0111161/</td>\n",
       "      <td>1994</td>\n",
       "      <td>9.2</td>\n",
       "      <td>10.3K</td>\n",
       "      <td>Drama</td>\n",
       "      <td>Two imprisoned men bond over a number of years...</td>\n",
       "    </tr>\n",
       "    <tr>\n",
       "      <th>1</th>\n",
       "      <td>The Godfather</td>\n",
       "      <td>https://www.imdb.com//title/tt0068646/</td>\n",
       "      <td>1972</td>\n",
       "      <td>9.2</td>\n",
       "      <td>5.1K</td>\n",
       "      <td>Crime</td>\n",
       "      <td>The aging patriarch of an organized crime dyna...</td>\n",
       "    </tr>\n",
       "    <tr>\n",
       "      <th>2</th>\n",
       "      <td>The Dark Knight</td>\n",
       "      <td>https://www.imdb.com//title/tt0468569/</td>\n",
       "      <td>2008</td>\n",
       "      <td>9.0</td>\n",
       "      <td>8.2K</td>\n",
       "      <td>Action</td>\n",
       "      <td>When the menace known as the Joker wreaks havo...</td>\n",
       "    </tr>\n",
       "    <tr>\n",
       "      <th>3</th>\n",
       "      <td>The Godfather Part II</td>\n",
       "      <td>https://www.imdb.com//title/tt0071562/</td>\n",
       "      <td>1974</td>\n",
       "      <td>9.0</td>\n",
       "      <td>1.3K</td>\n",
       "      <td>Crime</td>\n",
       "      <td>The early life and career of Vito Corleone in ...</td>\n",
       "    </tr>\n",
       "    <tr>\n",
       "      <th>4</th>\n",
       "      <td>12 Angry Men</td>\n",
       "      <td>https://www.imdb.com//title/tt0050083/</td>\n",
       "      <td>1957</td>\n",
       "      <td>8.9</td>\n",
       "      <td>1.9K</td>\n",
       "      <td>Crime</td>\n",
       "      <td>The jury in a New York City murder trial is fr...</td>\n",
       "    </tr>\n",
       "    <tr>\n",
       "      <th>...</th>\n",
       "      <td>...</td>\n",
       "      <td>...</td>\n",
       "      <td>...</td>\n",
       "      <td>...</td>\n",
       "      <td>...</td>\n",
       "      <td>...</td>\n",
       "      <td>...</td>\n",
       "    </tr>\n",
       "    <tr>\n",
       "      <th>245</th>\n",
       "      <td>Jai Bhim</td>\n",
       "      <td>https://www.imdb.com//title/tt15097216/</td>\n",
       "      <td>2021</td>\n",
       "      <td>8.0</td>\n",
       "      <td>3.3K</td>\n",
       "      <td>Crime</td>\n",
       "      <td>When a tribal man is arrested for a case of al...</td>\n",
       "    </tr>\n",
       "    <tr>\n",
       "      <th>246</th>\n",
       "      <td>Aladdin</td>\n",
       "      <td>https://www.imdb.com//title/tt0103639/</td>\n",
       "      <td>1992</td>\n",
       "      <td>8.0</td>\n",
       "      <td>381</td>\n",
       "      <td>Animation</td>\n",
       "      <td>A kindhearted street urchin and a power-hungry...</td>\n",
       "    </tr>\n",
       "    <tr>\n",
       "      <th>247</th>\n",
       "      <td>Gandhi</td>\n",
       "      <td>https://www.imdb.com//title/tt0083987/</td>\n",
       "      <td>1982</td>\n",
       "      <td>8.0</td>\n",
       "      <td>328</td>\n",
       "      <td>Biography</td>\n",
       "      <td>The life of the lawyer who became the famed le...</td>\n",
       "    </tr>\n",
       "    <tr>\n",
       "      <th>248</th>\n",
       "      <td>The Help</td>\n",
       "      <td>https://www.imdb.com//title/tt1454029/</td>\n",
       "      <td>2011</td>\n",
       "      <td>8.0</td>\n",
       "      <td>642</td>\n",
       "      <td>Drama</td>\n",
       "      <td>An aspiring author during the civil rights mov...</td>\n",
       "    </tr>\n",
       "    <tr>\n",
       "      <th>249</th>\n",
       "      <td>The Iron Giant</td>\n",
       "      <td>https://www.imdb.com//title/tt0129167/</td>\n",
       "      <td>1999</td>\n",
       "      <td>8.0</td>\n",
       "      <td>623</td>\n",
       "      <td>Animation</td>\n",
       "      <td>A young boy befriends a giant robot from outer...</td>\n",
       "    </tr>\n",
       "  </tbody>\n",
       "</table>\n",
       "<p>250 rows × 7 columns</p>\n",
       "</div>"
      ],
      "text/plain": [
       "                   Movie Name                                      Url  \\\n",
       "0    The Shawshank Redemption   https://www.imdb.com//title/tt0111161/   \n",
       "1               The Godfather   https://www.imdb.com//title/tt0068646/   \n",
       "2             The Dark Knight   https://www.imdb.com//title/tt0468569/   \n",
       "3       The Godfather Part II   https://www.imdb.com//title/tt0071562/   \n",
       "4                12 Angry Men   https://www.imdb.com//title/tt0050083/   \n",
       "..                        ...                                      ...   \n",
       "245                  Jai Bhim  https://www.imdb.com//title/tt15097216/   \n",
       "246                   Aladdin   https://www.imdb.com//title/tt0103639/   \n",
       "247                    Gandhi   https://www.imdb.com//title/tt0083987/   \n",
       "248                  The Help   https://www.imdb.com//title/tt1454029/   \n",
       "249            The Iron Giant   https://www.imdb.com//title/tt0129167/   \n",
       "\n",
       "    Released On Rating Viewers      genre  \\\n",
       "0          1994    9.2   10.3K      Drama   \n",
       "1          1972    9.2    5.1K      Crime   \n",
       "2          2008    9.0    8.2K     Action   \n",
       "3          1974    9.0    1.3K      Crime   \n",
       "4          1957    8.9    1.9K      Crime   \n",
       "..          ...    ...     ...        ...   \n",
       "245        2021    8.0    3.3K      Crime   \n",
       "246        1992    8.0     381  Animation   \n",
       "247        1982    8.0     328  Biography   \n",
       "248        2011    8.0     642      Drama   \n",
       "249        1999    8.0     623  Animation   \n",
       "\n",
       "                                               summary  \n",
       "0    Two imprisoned men bond over a number of years...  \n",
       "1    The aging patriarch of an organized crime dyna...  \n",
       "2    When the menace known as the Joker wreaks havo...  \n",
       "3    The early life and career of Vito Corleone in ...  \n",
       "4    The jury in a New York City murder trial is fr...  \n",
       "..                                                 ...  \n",
       "245  When a tribal man is arrested for a case of al...  \n",
       "246  A kindhearted street urchin and a power-hungry...  \n",
       "247  The life of the lawyer who became the famed le...  \n",
       "248  An aspiring author during the civil rights mov...  \n",
       "249  A young boy befriends a giant robot from outer...  \n",
       "\n",
       "[250 rows x 7 columns]"
      ]
     },
     "execution_count": 63,
     "metadata": {},
     "output_type": "execute_result"
    }
   ],
   "source": [
    "final_df"
   ]
  },
  {
   "cell_type": "markdown",
   "metadata": {},
   "source": [
    "**Finally we have got all details from each movie now save our work in final CSV _IMDb Top 250 Movies_**"
   ]
  },
  {
   "cell_type": "code",
   "execution_count": 65,
   "metadata": {},
   "outputs": [],
   "source": [
    "final_df.to_csv('IMDb Top 250 Movies.csv', index=None) "
   ]
  },
  {
   "cell_type": "markdown",
   "metadata": {},
   "source": [
    "### All information are saved in CSV we can check in file "
   ]
  },
  {
   "cell_type": "markdown",
   "metadata": {},
   "source": [
    "## Summary\n",
    "So, we are successful in parsing Web page for imdb movies. We got lots of interesting and useful information from it. \n",
    "All our work is saved in CSV file. Through this CSV file, we can get all our information in the best and optimal way.\n",
    " \n",
    "\n",
    "![](https://comptiacdn.azureedge.net/webcontent/images/default-source/researchreports/data-analytics-vs.-data-science/data-analytics-vs-data-science.png?sfvrsn=28434515_0)"
   ]
  },
  {
   "cell_type": "markdown",
   "metadata": {},
   "source": [
    "## Future Work\n",
    "Now we can easily get details about most trending movies by top rating. Also we can find movies by our favorite genre.\n",
    "this data can be use for further analysis into the data and it will be auto update by running all cells again."
   ]
  },
  {
   "cell_type": "markdown",
   "metadata": {},
   "source": [
    "## References\n",
    "\n",
    "1. Python documentation (https://www.python.org/)\n",
    "2. Requests library (https://pypi.org/project/requests/)\n",
    "3. Beautiful Soup (https://beautiful-soup-4.readthedocs.io/en/latest/)\n",
    "4. Aakash NS Web Scraping Tutorial (https://www.youtube.com/watch?v=RKsLLG-bzEY&t=8940s)\n"
   ]
  },
  {
   "cell_type": "code",
   "execution_count": 139,
   "metadata": {},
   "outputs": [
    {
     "data": {
      "application/javascript": [
       "window.require && require([\"base/js/namespace\"],function(Jupyter){Jupyter.notebook.save_checkpoint()})"
      ],
      "text/plain": [
       "<IPython.core.display.Javascript object>"
      ]
     },
     "metadata": {},
     "output_type": "display_data"
    },
    {
     "name": "stdout",
     "output_type": "stream",
     "text": [
      "[jovian] Updating notebook \"sritu1510/web-scraping-project-on-github-topics\" on https://jovian.ai\u001b[0m\n",
      "[jovian] Committed successfully! https://jovian.ai/sritu1510/web-scraping-project-on-github-topics\u001b[0m\n"
     ]
    },
    {
     "data": {
      "text/plain": [
       "'https://jovian.ai/sritu1510/web-scraping-project-on-github-topics'"
      ]
     },
     "execution_count": 139,
     "metadata": {},
     "output_type": "execute_result"
    }
   ],
   "source": [
    "jovian.commit( project = \"\")"
   ]
  }
 ],
 "metadata": {
  "kernelspec": {
   "display_name": "Python 3 (ipykernel)",
   "language": "python",
   "name": "python3"
  },
  "language_info": {
   "codemirror_mode": {
    "name": "ipython",
    "version": 3
   },
   "file_extension": ".py",
   "mimetype": "text/x-python",
   "name": "python",
   "nbconvert_exporter": "python",
   "pygments_lexer": "ipython3",
   "version": "3.9.6"
  }
 },
 "nbformat": 4,
 "nbformat_minor": 2
}
